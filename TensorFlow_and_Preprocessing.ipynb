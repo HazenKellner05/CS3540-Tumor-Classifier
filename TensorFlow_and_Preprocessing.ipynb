{
  "cells": [
    {
      "cell_type": "code",
      "execution_count": null,
      "metadata": {
        "colab": {
          "base_uri": "https://localhost:8080/"
        },
        "id": "_E3IuJosWMG7",
        "outputId": "7c5b0eb3-1929-432f-83da-e5b9423dd779"
      },
      "outputs": [],
      "source": [
        "import os\n",
        "import tensorflow as tf\n",
        "import tensorflow.keras\n",
        "from tensorflow.keras import datasets, layers, models, metrics\n",
        "import matplotlib.pyplot as plt\n",
        "\n",
        "# import modules\n",
        "import numpy as np\n",
        "import pandas as pd\n",
        "import matplotlib.pyplot as plt\n",
        "\n",
        "# sklearn utilities\n",
        "from sklearn import datasets\n",
        "from sklearn.model_selection import train_test_split\n",
        "from sklearn.metrics import confusion_matrix, classification_report\n",
        "\n",
        "# sklearn models\n",
        "from sklearn.linear_model import LogisticRegression\n",
        "from sklearn.tree import DecisionTreeClassifier\n",
        "from sklearn.svm import SVC\n",
        "from sklearn.ensemble import RandomForestClassifier\n",
        "from sklearn.decomposition import PCA\n",
        "from sklearn.preprocessing import LabelEncoder\n"
      ]
    },
    {
      "cell_type": "code",
      "execution_count": null,
      "metadata": {
        "colab": {
          "base_uri": "https://localhost:8080/"
        },
        "id": "6026040f",
        "outputId": "acdf43bb-c9aa-462e-e915-4c2bdd34cb74"
      },
      "outputs": [
        {
          "name": "stdout",
          "output_type": "stream",
          "text": [
            "Directory not found: data/Brain_Cancer raw MRI data/Brain_Cancer/brain_tumor\n",
            "Image data shape: (4008, 256, 256, 3)\n",
            "Image labels shape: (4008,)\n",
            "Example labels: ['brain_glioma' 'brain_glioma' 'brain_glioma' 'brain_glioma'\n",
            " 'brain_glioma' 'brain_glioma' 'brain_glioma' 'brain_glioma'\n",
            " 'brain_glioma' 'brain_glioma']\n"
          ]
        }
      ],
      "source": [
        "from PIL import Image\n",
        "\n",
        "#run this if images are not saved locally as np array\n",
        "\n",
        "#in order for this to work, you need to download the data from kaggle as a zip and upload it to the following directory:\n",
        "# /content/drive/MyDrive/CS3540/CS3540-Assignments/final-project/data/\n",
        "\n",
        "glioma_path = 'Brain_Cancer raw MRI data/Brain_Cancer/brain_glioma'\n",
        "menin_path = 'Brain_Cancer raw MRI data/Brain_Cancer/brain_menin'\n",
        "tumor_path = 'data/Brain_Cancer raw MRI data/Brain_Cancer/brain_tumor'\n",
        "\n",
        "image_data = []\n",
        "image_labels = []\n",
        "\n",
        "target_size = (256, 256) # this is a hyper param, rescaled size of images that will be used as the input shape for the CNN\n",
        "\n",
        "\n",
        "\n",
        "for directory_path in [glioma_path, menin_path, tumor_path]:\n",
        "    if os.path.exists(directory_path):\n",
        "        label = os.path.basename(directory_path) # directory corresponds to label\n",
        "        for filename in os.listdir(directory_path):\n",
        "            full_path = os.path.join(directory_path, filename)\n",
        "            if os.path.isfile(full_path):\n",
        "                try:\n",
        "                    img = Image.open(full_path).convert('RGB')\n",
        "                    img_resized = img.resize(target_size) # <- we resize so the image data isn't incredibly huge but still provides enough information to train on\n",
        "                    img_array = np.asarray(img_resized)\n",
        "                    image_data.append(img_array)\n",
        "                    image_labels.append(label)\n",
        "                except Exception as e:\n",
        "                    print(f\"Error processing {full_path}: {e}\")\n",
        "    else:\n",
        "        print(f\"Directory not found: {directory_path}\")\n",
        "\n",
        "# Convert the lists to numpy arrays\n",
        "image_data = np.array(image_data)\n",
        "image_labels = np.array(image_labels)\n",
        "\n",
        "print(\"Image data shape:\", image_data.shape)\n",
        "print(\"Image labels shape:\", image_labels.shape)\n",
        "print(\"Example labels:\", image_labels[:10])"
      ]
    },
    {
      "cell_type": "code",
      "execution_count": null,
      "metadata": {
        "colab": {
          "base_uri": "https://localhost:8080/"
        },
        "id": "b1e809f5",
        "outputId": "9755067f-1e53-4e47-c398-68b5c8d711a4"
      },
      "outputs": [
        {
          "name": "stdout",
          "output_type": "stream",
          "text": [
            "Image data and labels saved as 'image_data.npy' and 'image_labels.npy'\n"
          ]
        }
      ],
      "source": [
        "# Save the image data and labels\n",
        "# only run this cell if generating images for the first time after running the above cell\n",
        "np.save('image_data.npy', image_data)\n",
        "np.save('image_labels.npy', image_labels)\n",
        "\n",
        "print(\"Image data and labels saved as 'image_data.npy' and 'image_labels.npy'\")"
      ]
    },
    {
      "cell_type": "code",
      "execution_count": null,
      "metadata": {
        "id": "Az7krrOsg69J"
      },
      "outputs": [],
      "source": [
        "# load image data, if saved locally\n",
        "\n",
        "image_data = np.load('image_data.npy')\n",
        "image_labels = np.load('image_labels.npy')"
      ]
    },
    {
      "cell_type": "code",
      "execution_count": null,
      "metadata": {
        "colab": {
          "base_uri": "https://localhost:8080/"
        },
        "id": "290b6bdd",
        "outputId": "c7b3285b-995a-4dbf-b991-bef0fb93f791"
      },
      "outputs": [
        {
          "name": "stdout",
          "output_type": "stream",
          "text": [
            "Image data normalized.\n"
          ]
        }
      ],
      "source": [
        "# Normalize the image data\n",
        "\n",
        "# run this cell after images have either been loaded or generated in the above cell\n",
        "for image in image_data:\n",
        "  image = image / 255\n",
        "\n",
        "print(\"Image data normalized.\")"
      ]
    },
    {
      "cell_type": "code",
      "execution_count": null,
      "metadata": {
        "colab": {
          "base_uri": "https://localhost:8080/"
        },
        "id": "eae76de4",
        "outputId": "d756d071-7dca-48d7-cd36-a83ac37fcb12"
      },
      "outputs": [
        {
          "name": "stdout",
          "output_type": "stream",
          "text": [
            "Data split into training and testing sets.\n",
            "X_train shape: (4844, 256, 256, 3)\n",
            "X_test shape: (1212, 256, 256, 3)\n",
            "y_train shape: (4844,)\n",
            "y_test shape: (1212,)\n"
          ]
        }
      ],
      "source": [
        "#run this after image normalization\n",
        "\n",
        "x_train, x_test, y_train, y_test = train_test_split(image_data, image_labels, test_size=0.2, random_state=42)\n",
        "\n",
        "print(\"Data split into training and testing sets.\")\n",
        "print(\"X_train shape:\", x_train.shape)\n",
        "print(\"X_test shape:\", x_test.shape)\n",
        "print(\"y_train shape:\", y_train.shape)\n",
        "print(\"y_test shape:\", y_test.shape)"
      ]
    },
    {
      "cell_type": "code",
      "execution_count": null,
      "metadata": {
        "id": "DW9JLjS69LJ4"
      },
      "outputs": [],
      "source": [
        "class_names = ['glioma', 'menin', 'tumor']"
      ]
    },
    {
      "cell_type": "code",
      "execution_count": null,
      "metadata": {
        "id": "aIVkj-Xp92Qr"
      },
      "outputs": [
        {
          "name": "stderr",
          "output_type": "stream",
          "text": [
            "/Users/hkellner/Library/Mobile Documents/com~apple~CloudDocs/School/Machine Learning/Final_project/.venv/lib/python3.13/site-packages/keras/src/layers/convolutional/base_conv.py:113: UserWarning: Do not pass an `input_shape`/`input_dim` argument to a layer. When using Sequential models, prefer using an `Input(shape)` object as the first layer in the model instead.\n",
            "  super().__init__(activity_regularizer=activity_regularizer, **kwargs)\n"
          ]
        }
      ],
      "source": [
        "# defining model\n",
        "\n",
        "model = models.Sequential()\n",
        "model.add(layers.Conv2D(64, (3, 3), activation='relu', input_shape=(256, 256, 3))) # input is of the form height, width, num colors\n",
        "model.add(layers.MaxPooling2D((2, 2)))\n",
        "model.add(layers.Conv2D(32, (3, 3), activation='relu'))\n",
        "model.add(layers.MaxPooling2D((2, 2)))\n",
        "model.add(layers.Conv2D(32, (3, 3), activation='relu'))\n",
        "model.add(layers.Flatten())\n",
        "model.add(layers.Dense(32, activation='relu'))\n",
        "model.add(layers.Dense(len(class_names)))"
      ]
    },
    {
      "cell_type": "code",
      "execution_count": null,
      "metadata": {
        "id": "Sw5IDGfW-nrZ"
      },
      "outputs": [],
      "source": [
        "\n",
        "#run this cell to change image labels to ints (CNN wants this and won't work without it)\n",
        "\n",
        "# change labels from strings to int\n",
        "\n",
        "# Initialize LabelEncoder\n",
        "label_encoder = LabelEncoder()\n",
        "\n",
        "# Fit and transform the string labels to integer labels\n",
        "y_train_encoded = label_encoder.fit_transform(y_train)\n",
        "y_test_encoded = label_encoder.transform(y_test)\n",
        "\n",
        "\n",
        "# Update y_train and y_test to use the encoded labels\n",
        "y_train = y_train_encoded\n",
        "y_test = y_test_encoded"
      ]
    },
    {
      "cell_type": "code",
      "execution_count": null,
      "metadata": {
        "colab": {
          "base_uri": "https://localhost:8080/",
          "height": 180
        },
        "id": "rU8nRRtVDPBR",
        "outputId": "f3510f0d-0d8f-4327-c2bb-2952546e4c1d"
      },
      "outputs": [
        {
          "name": "stdout",
          "output_type": "stream",
          "text": [
            "Epoch 1/5\n",
            "\u001b[1m152/152\u001b[0m \u001b[32m━━━━━━━━━━━━━━━━━━━━\u001b[0m\u001b[37m\u001b[0m \u001b[1m109s\u001b[0m 711ms/step - accuracy: 0.3355 - loss: 1.0986 - val_accuracy: 0.3259 - val_loss: 1.0995\n",
            "Epoch 2/5\n",
            "\u001b[1m152/152\u001b[0m \u001b[32m━━━━━━━━━━━━━━━━━━━━\u001b[0m\u001b[37m\u001b[0m \u001b[1m105s\u001b[0m 693ms/step - accuracy: 0.3412 - loss: 1.0985 - val_accuracy: 0.3259 - val_loss: 1.0995\n",
            "Epoch 3/5\n",
            "\u001b[1m152/152\u001b[0m \u001b[32m━━━━━━━━━━━━━━━━━━━━\u001b[0m\u001b[37m\u001b[0m \u001b[1m103s\u001b[0m 680ms/step - accuracy: 0.3412 - loss: 1.0985 - val_accuracy: 0.3259 - val_loss: 1.0994\n",
            "Epoch 4/5\n",
            "\u001b[1m152/152\u001b[0m \u001b[32m━━━━━━━━━━━━━━━━━━━━\u001b[0m\u001b[37m\u001b[0m \u001b[1m106s\u001b[0m 700ms/step - accuracy: 0.3412 - loss: 1.0985 - val_accuracy: 0.3259 - val_loss: 1.0993\n",
            "Epoch 5/5\n",
            "\u001b[1m152/152\u001b[0m \u001b[32m━━━━━━━━━━━━━━━━━━━━\u001b[0m\u001b[37m\u001b[0m \u001b[1m108s\u001b[0m 711ms/step - accuracy: 0.3412 - loss: 1.0986 - val_accuracy: 0.3259 - val_loss: 1.0994\n"
          ]
        }
      ],
      "source": [
        "# training model\n",
        "\n",
        "# only run this if weights are not saved locally\n",
        "# this will take an extraordinarily long time (> 1 hour if you don't have colab pro)\n",
        "# if you do have colab pro, T4 gpus will speed this up quite a bit, should take ~1 minute.\n",
        "\n",
        "model.compile(optimizer='adam',\n",
        "              loss=tf.keras.losses.SparseCategoricalCrossentropy(from_logits=True),\n",
        "              metrics=['accuracy'])\n",
        "\n",
        "history = model.fit(x_train, y_train, epochs=5,\n",
        "                    validation_data=(x_test, y_test))\n",
        "\n",
        "\n"
      ]
    },
    {
      "cell_type": "code",
      "execution_count": null,
      "metadata": {},
      "outputs": [
        {
          "name": "stdout",
          "output_type": "stream",
          "text": [
            "38/38 - 7s - 184ms/step - accuracy: 0.3259 - loss: 1.0993\n",
            "accuracy on test dataset:  0.3259075880050659\n"
          ]
        },
        {
          "data": {
            "image/png": "[encoded data removed]",
            "text/plain": [
              "<Figure size 640x480 with 1 Axes>"
            ]
          },
          "metadata": {},
          "output_type": "display_data"
        }
      ],
      "source": [
        "# metrics + evaluation\n",
        "\n",
        "plt.plot(history.history['accuracy'], label='training accuracy')\n",
        "plt.plot(history.history['val_accuracy'], label = 'testing accuracy')\n",
        "plt.xlabel('Epoch')\n",
        "plt.ylabel('Accuracy')\n",
        "plt.ylim([0.0, 1])\n",
        "plt.legend(loc='lower right')\n",
        "\n",
        "checkpoint_path = \"checkpoints.weights.h5\"\n",
        "model.save_weights(checkpoint_path)\n",
        "\n",
        "test_loss, test_acc = model.evaluate(x_test,  y_test, verbose=2)\n",
        "\n",
        "\n",
        "print(\"accuracy on test dataset: \", test_acc)"
      ]
    },
    {
      "cell_type": "code",
      "execution_count": null,
      "metadata": {
        "colab": {
          "base_uri": "https://localhost:8080/"
        },
        "id": "suFk_05zheJh",
        "outputId": "5bbd1e6c-337d-4648-bbdb-5d0e8e20757a"
      },
      "outputs": [
        {
          "name": "stderr",
          "output_type": "stream",
          "text": [
            "/Users/hkellner/Library/Mobile Documents/com~apple~CloudDocs/School/Machine Learning/Final_project/.venv/lib/python3.13/site-packages/keras/src/layers/convolutional/base_conv.py:113: UserWarning: Do not pass an `input_shape`/`input_dim` argument to a layer. When using Sequential models, prefer using an `Input(shape)` object as the first layer in the model instead.\n",
            "  super().__init__(activity_regularizer=activity_regularizer, **kwargs)\n"
          ]
        },
        {
          "name": "stdout",
          "output_type": "stream",
          "text": [
            "38/38 - 7s - 193ms/step - accuracy: 0.3259 - loss: 1.0993\n",
            "[1.0993390083312988, 0.3259075880050659]\n"
          ]
        }
      ],
      "source": [
        "#run this to load locally stored weights (won't work unless you have either trained once or have the weights saved to your drive)\n",
        "checkpoint_path = \"checkpoints.weights.h5\"\n",
        "\n",
        "model = models.Sequential()\n",
        "model.add(layers.Conv2D(64, (3, 3), activation='relu', input_shape=(256, 256, 3))) # input is of the form height, width, num colors\n",
        "model.add(layers.MaxPooling2D((2, 2)))\n",
        "model.add(layers.Conv2D(32, (3, 3), activation='relu'))\n",
        "model.add(layers.MaxPooling2D((2, 2)))\n",
        "model.add(layers.Conv2D(32, (3, 3), activation='relu'))\n",
        "model.add(layers.Flatten())\n",
        "model.add(layers.Dense(32, activation='relu'))\n",
        "model.add(layers.Dense(len(class_names)))\n",
        "\n",
        "model.load_weights(checkpoint_path)\n",
        "\n",
        "model.compile(optimizer='adam',\n",
        "              loss=tf.keras.losses.SparseCategoricalCrossentropy(from_logits=True),\n",
        "              metrics=['accuracy'])\n",
        "\n",
        "print(model.evaluate(x_test,  y_test, verbose=2))"
      ]
    },
    {
      "cell_type": "code",
      "execution_count": null,
      "metadata": {
        "colab": {
          "base_uri": "https://localhost:8080/"
        },
        "id": "c_vIUY_Giokh",
        "outputId": "733b8405-3679-4582-9d88-05c534f76164"
      },
      "outputs": [
        {
          "name": "stdout",
          "output_type": "stream",
          "text": [
            "\u001b[1m38/38\u001b[0m \u001b[32m━━━━━━━━━━━━━━━━━━━━\u001b[0m\u001b[37m\u001b[0m \u001b[1m7s\u001b[0m 187ms/step\n"
          ]
        },
        {
          "ename": "ValueError",
          "evalue": "Argument `segment_ids` and `data` should have same leading dimension. Got (3636,) v.s. (1212,).",
          "output_type": "error",
          "traceback": [
            "\u001b[31m---------------------------------------------------------------------------\u001b[39m",
            "\u001b[31mValueError\u001b[39m                                Traceback (most recent call last)",
            "\u001b[36mCell\u001b[39m\u001b[36m \u001b[39m\u001b[32mIn[30]\u001b[39m\u001b[32m, line 22\u001b[39m\n\u001b[32m      9\u001b[39m f1 = tf.keras.metrics.F1Score(average=\u001b[33m'\u001b[39m\u001b[33mweighted\u001b[39m\u001b[33m'\u001b[39m)\n\u001b[32m     10\u001b[39m AUC = tf.keras.metrics.AUC(\n\u001b[32m     11\u001b[39m     num_thresholds=\u001b[32m200\u001b[39m,\n\u001b[32m     12\u001b[39m     curve=\u001b[33m'\u001b[39m\u001b[33mROC\u001b[39m\u001b[33m'\u001b[39m,\n\u001b[32m   (...)\u001b[39m\u001b[32m     19\u001b[39m     label_weights=\u001b[38;5;28;01mNone\u001b[39;00m,\n\u001b[32m     20\u001b[39m     from_logits=\u001b[38;5;28;01mFalse\u001b[39;00m)\n\u001b[32m---> \u001b[39m\u001b[32m22\u001b[39m \u001b[43mAUC\u001b[49m\u001b[43m.\u001b[49m\u001b[43mupdate_state\u001b[49m\u001b[43m(\u001b[49m\u001b[43my_test\u001b[49m\u001b[43m,\u001b[49m\u001b[43m \u001b[49m\u001b[43my_pred\u001b[49m\u001b[43m)\u001b[49m\n\u001b[32m     23\u001b[39m f1.update_state(y_true_one_hot, y_pred)\n\u001b[32m     24\u001b[39m false_positives.update_state(y_true_one_hot, y_pred)\n",
            "\u001b[36mFile \u001b[39m\u001b[32m~/Library/Mobile Documents/com~apple~CloudDocs/School/Machine Learning/Final_project/.venv/lib/python3.13/site-packages/keras/src/metrics/confusion_metrics.py:1357\u001b[39m, in \u001b[36mAUC.update_state\u001b[39m\u001b[34m(self, y_true, y_pred, sample_weight)\u001b[39m\n\u001b[32m   1354\u001b[39m \u001b[38;5;28;01mif\u001b[39;00m \u001b[38;5;28mself\u001b[39m._from_logits:\n\u001b[32m   1355\u001b[39m     y_pred = activations.sigmoid(y_pred)\n\u001b[32m-> \u001b[39m\u001b[32m1357\u001b[39m \u001b[43mmetrics_utils\u001b[49m\u001b[43m.\u001b[49m\u001b[43mupdate_confusion_matrix_variables\u001b[49m\u001b[43m(\u001b[49m\n\u001b[32m   1358\u001b[39m \u001b[43m    \u001b[49m\u001b[43m{\u001b[49m\n\u001b[32m   1359\u001b[39m \u001b[43m        \u001b[49m\u001b[43mmetrics_utils\u001b[49m\u001b[43m.\u001b[49m\u001b[43mConfusionMatrix\u001b[49m\u001b[43m.\u001b[49m\u001b[43mTRUE_POSITIVES\u001b[49m\u001b[43m:\u001b[49m\u001b[43m \u001b[49m\u001b[38;5;28;43mself\u001b[39;49m\u001b[43m.\u001b[49m\u001b[43mtrue_positives\u001b[49m\u001b[43m,\u001b[49m\u001b[43m  \u001b[49m\u001b[38;5;66;43;03m# noqa: E501\u001b[39;49;00m\n\u001b[32m   1360\u001b[39m \u001b[43m        \u001b[49m\u001b[43mmetrics_utils\u001b[49m\u001b[43m.\u001b[49m\u001b[43mConfusionMatrix\u001b[49m\u001b[43m.\u001b[49m\u001b[43mTRUE_NEGATIVES\u001b[49m\u001b[43m:\u001b[49m\u001b[43m \u001b[49m\u001b[38;5;28;43mself\u001b[39;49m\u001b[43m.\u001b[49m\u001b[43mtrue_negatives\u001b[49m\u001b[43m,\u001b[49m\u001b[43m  \u001b[49m\u001b[38;5;66;43;03m# noqa: E501\u001b[39;49;00m\n\u001b[32m   1361\u001b[39m \u001b[43m        \u001b[49m\u001b[43mmetrics_utils\u001b[49m\u001b[43m.\u001b[49m\u001b[43mConfusionMatrix\u001b[49m\u001b[43m.\u001b[49m\u001b[43mFALSE_POSITIVES\u001b[49m\u001b[43m:\u001b[49m\u001b[43m \u001b[49m\u001b[38;5;28;43mself\u001b[39;49m\u001b[43m.\u001b[49m\u001b[43mfalse_positives\u001b[49m\u001b[43m,\u001b[49m\u001b[43m  \u001b[49m\u001b[38;5;66;43;03m# noqa: E501\u001b[39;49;00m\n\u001b[32m   1362\u001b[39m \u001b[43m        \u001b[49m\u001b[43mmetrics_utils\u001b[49m\u001b[43m.\u001b[49m\u001b[43mConfusionMatrix\u001b[49m\u001b[43m.\u001b[49m\u001b[43mFALSE_NEGATIVES\u001b[49m\u001b[43m:\u001b[49m\u001b[43m \u001b[49m\u001b[38;5;28;43mself\u001b[39;49m\u001b[43m.\u001b[49m\u001b[43mfalse_negatives\u001b[49m\u001b[43m,\u001b[49m\u001b[43m  \u001b[49m\u001b[38;5;66;43;03m# noqa: E501\u001b[39;49;00m\n\u001b[32m   1363\u001b[39m \u001b[43m    \u001b[49m\u001b[43m}\u001b[49m\u001b[43m,\u001b[49m\n\u001b[32m   1364\u001b[39m \u001b[43m    \u001b[49m\u001b[43my_true\u001b[49m\u001b[43m,\u001b[49m\n\u001b[32m   1365\u001b[39m \u001b[43m    \u001b[49m\u001b[43my_pred\u001b[49m\u001b[43m,\u001b[49m\n\u001b[32m   1366\u001b[39m \u001b[43m    \u001b[49m\u001b[38;5;28;43mself\u001b[39;49m\u001b[43m.\u001b[49m\u001b[43m_thresholds\u001b[49m\u001b[43m,\u001b[49m\n\u001b[32m   1367\u001b[39m \u001b[43m    \u001b[49m\u001b[43mthresholds_distributed_evenly\u001b[49m\u001b[43m=\u001b[49m\u001b[38;5;28;43mself\u001b[39;49m\u001b[43m.\u001b[49m\u001b[43m_thresholds_distributed_evenly\u001b[49m\u001b[43m,\u001b[49m\n\u001b[32m   1368\u001b[39m \u001b[43m    \u001b[49m\u001b[43msample_weight\u001b[49m\u001b[43m=\u001b[49m\u001b[43msample_weight\u001b[49m\u001b[43m,\u001b[49m\n\u001b[32m   1369\u001b[39m \u001b[43m    \u001b[49m\u001b[43mmulti_label\u001b[49m\u001b[43m=\u001b[49m\u001b[38;5;28;43mself\u001b[39;49m\u001b[43m.\u001b[49m\u001b[43mmulti_label\u001b[49m\u001b[43m,\u001b[49m\n\u001b[32m   1370\u001b[39m \u001b[43m    \u001b[49m\u001b[43mlabel_weights\u001b[49m\u001b[43m=\u001b[49m\u001b[43mlabel_weights\u001b[49m\u001b[43m,\u001b[49m\n\u001b[32m   1371\u001b[39m \u001b[43m\u001b[49m\u001b[43m)\u001b[49m\n",
            "\u001b[36mFile \u001b[39m\u001b[32m~/Library/Mobile Documents/com~apple~CloudDocs/School/Machine Learning/Final_project/.venv/lib/python3.13/site-packages/keras/src/metrics/metrics_utils.py:484\u001b[39m, in \u001b[36mupdate_confusion_matrix_variables\u001b[39m\u001b[34m(variables_to_update, y_true, y_pred, thresholds, top_k, class_id, sample_weight, multi_label, label_weights, thresholds_distributed_evenly)\u001b[39m\n\u001b[32m    481\u001b[39m     y_pred = y_pred[..., class_id, \u001b[38;5;28;01mNone\u001b[39;00m]\n\u001b[32m    483\u001b[39m \u001b[38;5;28;01mif\u001b[39;00m thresholds_distributed_evenly:\n\u001b[32m--> \u001b[39m\u001b[32m484\u001b[39m     \u001b[38;5;28;01mreturn\u001b[39;00m \u001b[43m_update_confusion_matrix_variables_optimized\u001b[49m\u001b[43m(\u001b[49m\n\u001b[32m    485\u001b[39m \u001b[43m        \u001b[49m\u001b[43mvariables_to_update\u001b[49m\u001b[43m,\u001b[49m\n\u001b[32m    486\u001b[39m \u001b[43m        \u001b[49m\u001b[43my_true\u001b[49m\u001b[43m,\u001b[49m\n\u001b[32m    487\u001b[39m \u001b[43m        \u001b[49m\u001b[43my_pred\u001b[49m\u001b[43m,\u001b[49m\n\u001b[32m    488\u001b[39m \u001b[43m        \u001b[49m\u001b[43mthresholds\u001b[49m\u001b[43m,\u001b[49m\n\u001b[32m    489\u001b[39m \u001b[43m        \u001b[49m\u001b[43mmulti_label\u001b[49m\u001b[43m=\u001b[49m\u001b[43mmulti_label\u001b[49m\u001b[43m,\u001b[49m\n\u001b[32m    490\u001b[39m \u001b[43m        \u001b[49m\u001b[43msample_weights\u001b[49m\u001b[43m=\u001b[49m\u001b[43msample_weight\u001b[49m\u001b[43m,\u001b[49m\n\u001b[32m    491\u001b[39m \u001b[43m        \u001b[49m\u001b[43mlabel_weights\u001b[49m\u001b[43m=\u001b[49m\u001b[43mlabel_weights\u001b[49m\u001b[43m,\u001b[49m\n\u001b[32m    492\u001b[39m \u001b[43m        \u001b[49m\u001b[43mthresholds_with_epsilon\u001b[49m\u001b[43m=\u001b[49m\u001b[43mthresholds_with_epsilon\u001b[49m\u001b[43m,\u001b[49m\n\u001b[32m    493\u001b[39m \u001b[43m    \u001b[49m\u001b[43m)\u001b[49m\n\u001b[32m    495\u001b[39m \u001b[38;5;28;01mif\u001b[39;00m \u001b[38;5;28;01mNone\u001b[39;00m \u001b[38;5;129;01min\u001b[39;00m y_pred.shape:\n\u001b[32m    496\u001b[39m     pred_shape = ops.shape(y_pred)\n",
            "\u001b[36mFile \u001b[39m\u001b[32m~/Library/Mobile Documents/com~apple~CloudDocs/School/Machine Learning/Final_project/.venv/lib/python3.13/site-packages/keras/src/metrics/metrics_utils.py:275\u001b[39m, in \u001b[36m_update_confusion_matrix_variables_optimized\u001b[39m\u001b[34m(variables_to_update, y_true, y_pred, thresholds, multi_label, sample_weights, label_weights, thresholds_with_epsilon)\u001b[39m\n\u001b[32m    273\u001b[39m     fp = ops.transpose(ops.flip(ops.cumsum(ops.flip(fp_bucket_v), axis=\u001b[32m1\u001b[39m)))\n\u001b[32m    274\u001b[39m \u001b[38;5;28;01melse\u001b[39;00m:\n\u001b[32m--> \u001b[39m\u001b[32m275\u001b[39m     tp_bucket_v = \u001b[43mops\u001b[49m\u001b[43m.\u001b[49m\u001b[43msegment_sum\u001b[49m\u001b[43m(\u001b[49m\n\u001b[32m    276\u001b[39m \u001b[43m        \u001b[49m\u001b[43mdata\u001b[49m\u001b[43m=\u001b[49m\u001b[43mtrue_labels\u001b[49m\u001b[43m,\u001b[49m\n\u001b[32m    277\u001b[39m \u001b[43m        \u001b[49m\u001b[43msegment_ids\u001b[49m\u001b[43m=\u001b[49m\u001b[43mbucket_indices\u001b[49m\u001b[43m,\u001b[49m\n\u001b[32m    278\u001b[39m \u001b[43m        \u001b[49m\u001b[43mnum_segments\u001b[49m\u001b[43m=\u001b[49m\u001b[43mnum_thresholds\u001b[49m\u001b[43m,\u001b[49m\n\u001b[32m    279\u001b[39m \u001b[43m    \u001b[49m\u001b[43m)\u001b[49m\n\u001b[32m    280\u001b[39m     fp_bucket_v = ops.segment_sum(\n\u001b[32m    281\u001b[39m         data=false_labels,\n\u001b[32m    282\u001b[39m         segment_ids=bucket_indices,\n\u001b[32m    283\u001b[39m         num_segments=num_thresholds,\n\u001b[32m    284\u001b[39m     )\n\u001b[32m    285\u001b[39m     tp = ops.flip(ops.cumsum(ops.flip(tp_bucket_v)))\n",
            "\u001b[36mFile \u001b[39m\u001b[32m~/Library/Mobile Documents/com~apple~CloudDocs/School/Machine Learning/Final_project/.venv/lib/python3.13/site-packages/keras/src/ops/math.py:83\u001b[39m, in \u001b[36msegment_sum\u001b[39m\u001b[34m(data, segment_ids, num_segments, sorted)\u001b[39m\n\u001b[32m     56\u001b[39m \u001b[38;5;129m@keras_export\u001b[39m(\u001b[33m\"\u001b[39m\u001b[33mkeras.ops.segment_sum\u001b[39m\u001b[33m\"\u001b[39m)\n\u001b[32m     57\u001b[39m \u001b[38;5;28;01mdef\u001b[39;00m\u001b[38;5;250m \u001b[39m\u001b[34msegment_sum\u001b[39m(data, segment_ids, num_segments=\u001b[38;5;28;01mNone\u001b[39;00m, \u001b[38;5;28msorted\u001b[39m=\u001b[38;5;28;01mFalse\u001b[39;00m):\n\u001b[32m     58\u001b[39m \u001b[38;5;250m    \u001b[39m\u001b[33;03m\"\"\"Computes the sum of segments in a tensor.\u001b[39;00m\n\u001b[32m     59\u001b[39m \n\u001b[32m     60\u001b[39m \u001b[33;03m    Args:\u001b[39;00m\n\u001b[32m   (...)\u001b[39m\u001b[32m     81\u001b[39m \u001b[33;03m    array([3, 30, 300], dtype=int32)\u001b[39;00m\n\u001b[32m     82\u001b[39m \u001b[33;03m    \"\"\"\u001b[39;00m\n\u001b[32m---> \u001b[39m\u001b[32m83\u001b[39m     \u001b[43m_segment_reduce_validation\u001b[49m\u001b[43m(\u001b[49m\u001b[43mdata\u001b[49m\u001b[43m,\u001b[49m\u001b[43m \u001b[49m\u001b[43msegment_ids\u001b[49m\u001b[43m)\u001b[49m\n\u001b[32m     84\u001b[39m     \u001b[38;5;28;01mif\u001b[39;00m any_symbolic_tensors((data,)):\n\u001b[32m     85\u001b[39m         \u001b[38;5;28;01mreturn\u001b[39;00m SegmentSum(num_segments, \u001b[38;5;28msorted\u001b[39m).symbolic_call(data, segment_ids)\n",
            "\u001b[36mFile \u001b[39m\u001b[32m~/Library/Mobile Documents/com~apple~CloudDocs/School/Machine Learning/Final_project/.venv/lib/python3.13/site-packages/keras/src/ops/math.py:27\u001b[39m, in \u001b[36m_segment_reduce_validation\u001b[39m\u001b[34m(data, segment_ids)\u001b[39m\n\u001b[32m     15\u001b[39m     \u001b[38;5;28;01mraise\u001b[39;00m \u001b[38;5;167;01mValueError\u001b[39;00m(\n\u001b[32m     16\u001b[39m         \u001b[33m\"\u001b[39m\u001b[33mArgument `segment_ids` should be an 1-D vector, got shape: \u001b[39m\u001b[33m\"\u001b[39m\n\u001b[32m     17\u001b[39m         \u001b[33mf\u001b[39m\u001b[33m\"\u001b[39m\u001b[38;5;132;01m{\u001b[39;00m\u001b[38;5;28mlen\u001b[39m(segment_ids_shape)\u001b[38;5;132;01m}\u001b[39;00m\u001b[33m. Consider either flatten input with \u001b[39m\u001b[33m\"\u001b[39m\n\u001b[32m   (...)\u001b[39m\u001b[32m     20\u001b[39m         \u001b[33m\"\u001b[39m\u001b[33mvectorize with vmap.\u001b[39m\u001b[33m\"\u001b[39m\n\u001b[32m     21\u001b[39m     )\n\u001b[32m     22\u001b[39m \u001b[38;5;28;01mif\u001b[39;00m (\n\u001b[32m     23\u001b[39m     segment_ids_shape[\u001b[32m0\u001b[39m] \u001b[38;5;129;01mis\u001b[39;00m \u001b[38;5;129;01mnot\u001b[39;00m \u001b[38;5;28;01mNone\u001b[39;00m\n\u001b[32m     24\u001b[39m     \u001b[38;5;129;01mand\u001b[39;00m data_shape[\u001b[32m0\u001b[39m] \u001b[38;5;129;01mis\u001b[39;00m \u001b[38;5;129;01mnot\u001b[39;00m \u001b[38;5;28;01mNone\u001b[39;00m\n\u001b[32m     25\u001b[39m     \u001b[38;5;129;01mand\u001b[39;00m segment_ids_shape[\u001b[32m0\u001b[39m] != data_shape[\u001b[32m0\u001b[39m]\n\u001b[32m     26\u001b[39m ):\n\u001b[32m---> \u001b[39m\u001b[32m27\u001b[39m     \u001b[38;5;28;01mraise\u001b[39;00m \u001b[38;5;167;01mValueError\u001b[39;00m(\n\u001b[32m     28\u001b[39m         \u001b[33m\"\u001b[39m\u001b[33mArgument `segment_ids` and `data` should have same leading \u001b[39m\u001b[33m\"\u001b[39m\n\u001b[32m     29\u001b[39m         \u001b[33mf\u001b[39m\u001b[33m\"\u001b[39m\u001b[33mdimension. Got \u001b[39m\u001b[38;5;132;01m{\u001b[39;00msegment_ids_shape\u001b[38;5;132;01m}\u001b[39;00m\u001b[33m v.s. \u001b[39m\u001b[33m\"\u001b[39m\n\u001b[32m     30\u001b[39m         \u001b[33mf\u001b[39m\u001b[33m\"\u001b[39m\u001b[38;5;132;01m{\u001b[39;00mdata_shape\u001b[38;5;132;01m}\u001b[39;00m\u001b[33m.\u001b[39m\u001b[33m\"\u001b[39m\n\u001b[32m     31\u001b[39m     )\n",
            "\u001b[31mValueError\u001b[39m: Argument `segment_ids` and `data` should have same leading dimension. Got (3636,) v.s. (1212,)."
          ]
        }
      ],
      "source": [
        "# evaluation: https://www.tensorflow.org/api_docs/python/tf/keras/metrics/F1Score\n",
        "y_pred = model.predict(x_test)\n",
        "y_true = y_test\n",
        "\n",
        "#one hot to match y_true to y_pred (for multiple classes)\n",
        "y_true_one_hot = tf.one_hot(y_true, depth=len(class_names))\n",
        "false_positives = tf.keras.metrics.FalsePositives()\n",
        "false_negatives = tf.keras.metrics.FalseNegatives()\n",
        "f1 = tf.keras.metrics.F1Score(average='weighted')\n",
        "AUC = tf.keras.metrics.AUC(\n",
        "    num_thresholds=200,\n",
        "    curve='ROC',\n",
        "    summation_method='interpolation',\n",
        "    name=None,\n",
        "    dtype=None,\n",
        "    thresholds=None,\n",
        "    multi_label=False,\n",
        "    num_labels=None,\n",
        "    label_weights=None,\n",
        "    from_logits=False)\n",
        "\n",
        "AUC.update_state(y_test, y_pred)\n",
        "f1.update_state(y_true_one_hot, y_pred)\n",
        "false_positives.update_state(y_true_one_hot, y_pred)\n",
        "false_negatives.update_state(y_true_one_hot, y_pred)"
      ]
    },
    {
      "cell_type": "code",
      "execution_count": null,
      "metadata": {
        "colab": {
          "base_uri": "https://localhost:8080/"
        },
        "id": "xvW80k_SNd9R",
        "outputId": "693199b9-ba7a-4d5b-f98d-12c1ad0533a6"
      },
      "outputs": [
        {
          "name": "stdout",
          "output_type": "stream",
          "text": [
            "f1 score:  0.16021591\n",
            "AUROC: AUC:  0.4944307\n",
            "false negatives:  1212.0\n",
            "false positives:  0.0\n"
          ]
        }
      ],
      "source": [
        "print(\"f1 score: \", f1.result().numpy())\n",
        "print(\"AUROC: AUC: \", AUC.result().numpy())\n",
        "print(\"false negatives: \", false_negatives.result().numpy())\n",
        "print(\"false positives: \", false_positives.result().numpy())"
      ]
    },
    {
      "cell_type": "code",
      "execution_count": null,
      "metadata": {
        "id": "jy0B6DBeQgfB"
      },
      "outputs": [],
      "source": []
    }
  ],
  "metadata": {
    "colab": {
      "provenance": []
    },
    "kernelspec": {
      "display_name": ".venv",
      "language": "python",
      "name": "python3"
    },
    "language_info": {
      "codemirror_mode": {
        "name": "ipython",
        "version": 3
      },
      "file_extension": ".py",
      "mimetype": "text/x-python",
      "name": "python",
      "nbconvert_exporter": "python",
      "pygments_lexer": "ipython3",
      "version": "3.13.7"
    }
  },
  "nbformat": 4,
  "nbformat_minor": 0
}
